{
 "cells": [
  {
   "cell_type": "code",
   "execution_count": 2,
   "id": "8a6583e9-264a-40ed-95fb-6601ac334e57",
   "metadata": {},
   "outputs": [],
   "source": [
    "import cv2\n",
    "import mediapipe as mp\n",
    "import numpy as np\n",
    "from PIL import Image, ImageDraw, ImageFont\n",
    "from sympy import Point, Polygon \n",
    "mp_drawing = mp.solutions.drawing_utils\n",
    "mp_pose = mp.solutions.pose"
   ]
  },
  {
   "cell_type": "code",
   "execution_count": 158,
   "id": "47980279-ea84-4bc2-81bb-5736082ae1cb",
   "metadata": {},
   "outputs": [],
   "source": [
    "#Feed-ul de la camera\n",
    "cam = cv2.VideoCapture(0, cv2.CAP_DSHOW)\n",
    "cam.set(cv2.CAP_PROP_FRAME_WIDTH, 640)\n",
    "cam.set(cv2.CAP_PROP_FRAME_HEIGHT, 480)\n",
    "\n",
    "with mp_pose.Pose(min_detection_confidence = 0.5, min_tracking_confidence = 0.5) as pose:\n",
    "    while cam.isOpened():\n",
    "        ret, frame = cam.read()\n",
    "\n",
    "        #colorarea frame-ului din BGR in RGB\n",
    "        img = cv2.cvtColor(frame, cv2.COLOR_BGR2RGB)\n",
    "        img.flags.writeable = False\n",
    "\n",
    "        #detectarea modelului\n",
    "        pose_model = pose.process(img)\n",
    "        \n",
    "        #colorarea frame-ului din RGB in BGR\n",
    "        img.flags.writeable = True\n",
    "        img = cv2.cvtColor(img, cv2.COLOR_RGB2BGR)\n",
    "\n",
    "        mp_drawing.draw_landmarks(img, pose_model.pose_landmarks, mp_pose.POSE_CONNECTIONS)\n",
    "        \n",
    "        cv2.imshow(\"Camera Feed\", img)\n",
    "        if cv2.waitKey(1) == ord('q'):\n",
    "            break\n",
    "            \n",
    "    cam.release()\n",
    "    cv2.destroyAllWindows()"
   ]
  },
  {
   "cell_type": "code",
   "execution_count": 3,
   "id": "bde0cd08-6d11-47e5-88d7-82fb5be7edf6",
   "metadata": {},
   "outputs": [],
   "source": [
    "def calcul_unghi_2_drepte(a, b, c, d):\n",
    "    a = np.array(a)\n",
    "    b = np.array(b)\n",
    "    c = np.array(c)\n",
    "    d = np.array(d)\n",
    "    \n",
    "    vect_dir_ab = np.subtract(b, a)\n",
    "    vect_dir_cd = np.subtract(d, c)\n",
    "    \n",
    "    lungime_ab = np.linalg.norm(vect_dir_ab)\n",
    "    lungime_cd = np.linalg.norm(vect_dir_cd)\n",
    "    unghi = np.arccos(np.dot(vect_dir_ab, vect_dir_cd) / (lungime_ab * lungime_cd))\n",
    "    unghi = np.rad2deg(unghi)\n",
    "\n",
    "    return unghi\n",
    "\n"
   ]
  },
  {
   "cell_type": "code",
   "execution_count": 4,
   "id": "132b4032-7954-407b-8644-bf57113e44db",
   "metadata": {},
   "outputs": [],
   "source": [
    "def calcul_unghi_orizont(a, b):\n",
    "    a = np.array(a)\n",
    "    b = np.array(b)\n",
    "    c = [0, 0.5, 0]\n",
    "    d = [0.5, 0.5, 0]\n",
    "    vect_dir_ab = np.subtract(b, a)\n",
    "    vect_dir_cd = np.subtract(d, c)\n",
    "    \n",
    "    lungime_ab = np.linalg.norm(vect_dir_ab)\n",
    "    lungime_cd = np.linalg.norm(vect_dir_cd)\n",
    "    unghi = np.arccos(np.dot(vect_dir_ab, vect_dir_cd) / (lungime_ab * lungime_cd))\n",
    "    unghi = np.rad2deg(unghi)\n",
    "\n",
    "    return unghi"
   ]
  },
  {
   "cell_type": "code",
   "execution_count": 5,
   "id": "e42a8ae2-8cfe-4ab1-b73a-e4507b6614fa",
   "metadata": {},
   "outputs": [],
   "source": [
    "def prelucrare_img(nume_imagine, tip):\n",
    "    global factor_scalare\n",
    "    global pose_model\n",
    "    \n",
    "    with mp_pose.Pose(min_detection_confidence = 0.5, min_tracking_confidence = 0.5) as pose:\n",
    "    \n",
    "        img = cv2.imread(nume_imagine)\n",
    "        img = cv2.cvtColor(img, cv2.COLOR_BGR2RGB)\n",
    "        img.flags.writeable = False\n",
    "    \n",
    "        #detectarea modelului\n",
    "        pose_model = pose.process(img)\n",
    "            \n",
    "        #colorarea frame-ului din RGB in BGR\n",
    "        img.flags.writeable = True\n",
    "        img = cv2.cvtColor(img, cv2.COLOR_RGB2BGR)\n",
    "        factor_scalare = int(img.shape[0] / 720)\n",
    "        if tip == 1:\n",
    "            img = adaug_linii_suport(img)\n",
    "\n",
    "        copie = img.copy()\n",
    "        for lin in range(0, img.shape[1], 50 * factor_scalare):\n",
    "            cv2.line(copie, (lin, 0), (lin, img.shape[0]), (200, 200, 200), 1)\n",
    "\n",
    "        for lin in range(0, img.shape[0], 50 * factor_scalare):\n",
    "            cv2.line(copie, (0, lin), (img.shape[1], lin), (200, 200, 200), 1)\n",
    "\n",
    "        img = cv2.addWeighted(img, 0.8, copie, 0.2, 0)\n",
    "        cv2.imwrite('img_prelucrata.jpg', img)\n",
    "        img_al = afisare_aliniament(img, mijloace);\n",
    "        cv2.imwrite('img_prelucrata_aliniament.jpg', img_al)"
   ]
  },
  {
   "cell_type": "code",
   "execution_count": 6,
   "id": "e9d4a04c-c4b5-414c-a6bb-35805f6608c8",
   "metadata": {},
   "outputs": [],
   "source": [
    "def adaug_text_front(img, coord_y, denumire, unghi):\n",
    "    img_pil = Image.fromarray(cv2.cvtColor(img, cv2.COLOR_BGR2RGB))\n",
    "    draw = ImageDraw.Draw(img_pil)\n",
    "    font = ImageFont.truetype(\"arial.ttf\", 20 * factor_scalare)\n",
    "    \n",
    "    box = draw.textbbox((0, 0), denumire, font)\n",
    "    lungime_text = box[2] - box[0]\n",
    "    inaltime_text = box[3] - box[1]\n",
    "    draw.rectangle([(8, coord_y - inaltime_text - 12 * factor_scalare), (8 + lungime_text + 2 * factor_scalare, coord_y - 8 * factor_scalare)], (255, 255, 255))\n",
    "    draw.text((10, coord_y - 2*inaltime_text), denumire, (0, 0, 0), font)\n",
    "\n",
    "    box = draw.textbbox((0, 0), unghi, font)\n",
    "    lungime_text = box[2] - box[0]\n",
    "    inaltime_text = box[3] - box[1]\n",
    "    draw.rectangle([(img.shape[1] - 8 - lungime_text, coord_y - inaltime_text - 12 * factor_scalare), (img.shape[1] - 8, coord_y - 8 * factor_scalare)], (255, 255, 255))\n",
    "    draw.text((img.shape[1] - 6 - lungime_text, coord_y - 2*inaltime_text), unghi, (0, 0, 0), font)\n",
    "\n",
    "    img = cv2.cvtColor(np.array(img_pil), cv2.COLOR_RGB2BGR)\n",
    "    return img"
   ]
  },
  {
   "cell_type": "code",
   "execution_count": 7,
   "id": "8e819c3f-67ac-4eb8-834b-fbd7a3778f6c",
   "metadata": {},
   "outputs": [],
   "source": [
    "def adaug_linii_suport(img):\n",
    "    global mijloace\n",
    "    \n",
    "    try:\n",
    "            puncte = pose_model.pose_landmarks.landmark\n",
    "    except:\n",
    "            pass\n",
    "   \n",
    "    \n",
    "    puncte_linii_suport_dr = [mp_pose.PoseLandmark.RIGHT_EAR, mp_pose.PoseLandmark.RIGHT_SHOULDER, mp_pose.PoseLandmark.RIGHT_HIP, mp_pose.PoseLandmark.RIGHT_KNEE, mp_pose.PoseLandmark.RIGHT_ANKLE]\n",
    "    puncte_linii_suport_st = [mp_pose.PoseLandmark.LEFT_EAR, mp_pose.PoseLandmark.LEFT_SHOULDER, mp_pose.PoseLandmark.LEFT_HIP, mp_pose.PoseLandmark.LEFT_KNEE, mp_pose.PoseLandmark.LEFT_ANKLE]\n",
    "    denumiri = [\"Urechi\", \"Umeri\", \"Solduri\", \"Genunchi\", \"Glezne\"]\n",
    "    mijloace = []\n",
    "    \n",
    "    for (puncte_cheie_dr, puncte_cheie_st, denumire) in zip(puncte_linii_suport_dr, puncte_linii_suport_st, denumiri) :\n",
    "        punct11 = (int(puncte[puncte_cheie_dr.value].x * img.shape[1]), int(puncte[puncte_cheie_dr.value].y * img.shape[0]), int(puncte[puncte_cheie_dr.value].z))\n",
    "        punct12 = (int(puncte[puncte_cheie_st.value].x * img.shape[1]), int(puncte[puncte_cheie_st.value].y * img.shape[0]), int(puncte[puncte_cheie_dr.value].z))\n",
    "        cv2.line(img, punct11[:-1], punct12[:-1], (255, 255, 255), factor_scalare)\n",
    "        cv2.circle(img, punct11[:-1], 10, (0, 0, 0), factor_scalare)\n",
    "        cv2.circle(img, punct12[:-1], 10, (0, 0, 0), factor_scalare)\n",
    "        coord_y = int(((puncte[puncte_cheie_dr.value].y + puncte[puncte_cheie_st.value].y)/2) * img.shape[0])\n",
    "        coord_x = int(((puncte[puncte_cheie_dr.value].x + puncte[puncte_cheie_st.value].x)/2) * img.shape[1])\n",
    "        mijloace.append((coord_x, coord_y));\n",
    "        punct1 = (0, coord_y)\n",
    "        punct2 = (img.shape[1], coord_y)\n",
    "        cv2.line(img, punct1, punct2, (123, 45, 200), factor_scalare)\n",
    "        unghi = round(calcul_unghi_orizont(punct11, punct12), 2)\n",
    "        unghi_str = str(unghi) + \"°\"\n",
    "        img = adaug_text_front(img, coord_y, denumire, unghi_str)\n",
    "       \n",
    "        \n",
    "    copie = img.copy()\n",
    "    for i, puncte_cheie_dr in enumerate(puncte_linii_suport_dr[1:-1], 1):\n",
    "            punct11 = (int(puncte[puncte_cheie_dr.value].x * img.shape[1]), int(puncte[puncte_cheie_dr.value].y * img.shape[0]))\n",
    "            puncte_cheie_next = puncte_linii_suport_dr[i + 1]\n",
    "            punct12 = (int(puncte[puncte_cheie_next.value].x * img.shape[1]), int(puncte[puncte_cheie_next.value].y * img.shape[0]))\n",
    "            cv2.line(copie, punct11, punct12, (255, 255, 255), 2 * factor_scalare)\n",
    "          \n",
    "    for i, puncte_cheie_st in enumerate(puncte_linii_suport_st[1:-1], 1):\n",
    "            punct11 = (int(puncte[puncte_cheie_st.value].x * img.shape[1]), int(puncte[puncte_cheie_st.value].y * img.shape[0]))\n",
    "            puncte_cheie_next = puncte_linii_suport_st[i + 1]\n",
    "            punct12 = (int(puncte[puncte_cheie_next.value].x * img.shape[1]), int(puncte[puncte_cheie_next.value].y * img.shape[0]))\n",
    "            cv2.line(copie, punct11, punct12, (255, 255, 255), 2 * factor_scalare)\n",
    "\n",
    "    img = cv2.addWeighted(img, 0.8, copie, 0.2, 0)\n",
    "\n",
    "    return img"
   ]
  },
  {
   "cell_type": "code",
   "execution_count": 62,
   "id": "4f39ce3d-e453-44fc-91e1-a6976525d67b",
   "metadata": {},
   "outputs": [],
   "source": [
    "def afisare_aliniament(img, mijloace):\n",
    "    copie_pil = Image.fromarray(cv2.cvtColor(img, cv2.COLOR_BGR2RGB))\n",
    "    draw = ImageDraw.Draw(copie_pil)\n",
    "    \n",
    "    (_, y_urechi) = mijloace[0]\n",
    "    (x_glezne, _) = mijloace[4]\n",
    "    cv2.line(img, mijloace[4], (x_glezne, y_urechi), (0, 255, 0), factor_scalare)\n",
    "    for i, (x, y) in enumerate(mijloace[:-1]):\n",
    "        urm_x, urm_y = mijloace[i+1]\n",
    "        pct_filler = [(x, y), (urm_x, urm_y), (x_glezne, urm_y), (x_glezne, y)]\n",
    "        if (x > x_glezne and urm_x < x_glezne) or (x < x_glezne and urm_x > x_glezne):\n",
    "            y_int = intersectie(x_glezne, y, x_glezne, urm_y, x, y, urm_x, urm_y)\n",
    "            draw.polygon([(x, y), (x_glezne, y_int), (x_glezne, y)], (0, 255, 0))\n",
    "            draw.polygon([(urm_x, urm_y), (x_glezne, y_int), (x_glezne, urm_y)], (0, 255, 0))\n",
    "        else:\n",
    "            draw.polygon(pct_filler, (0, 255, 0))\n",
    "            \n",
    "        cv2.line(img, (x, y), (urm_x, urm_y), (0, 0, 255), factor_scalare)\n",
    "        cv2.circle(img, (x, y), 10, (0, 0, 0), factor_scalare)\n",
    "\n",
    "    x, y = mijloace[-1]\n",
    "    cv2.circle(img, (x, y), 10, (0, 0, 0), factor_scalare)\n",
    "    copie = cv2.cvtColor(np.array(copie_pil), cv2.COLOR_RGB2BGR)\n",
    "    img = cv2.addWeighted(img, 0.9, copie, 0.2, 0)\n",
    "    \n",
    "    return img"
   ]
  },
  {
   "cell_type": "code",
   "execution_count": 63,
   "id": "f12f83e3-0286-412d-84e9-1bb02f8ea8e3",
   "metadata": {},
   "outputs": [],
   "source": [
    "def intersectie(x11, y11, x12, y12, x21, y21, x22, y22):\n",
    "    y_int = int(((x11 * y12 - y11 * x12) * (y21 - y22) - (y11 - y12) * (x21 * y22 - y21 * x22)) / ((x11 - x12) * (y21 - y22) - (y11 - y12) * (x21 - x22)))\n",
    "    return y_int"
   ]
  },
  {
   "cell_type": "code",
   "execution_count": 65,
   "id": "8d171b7d-22e1-467b-9c19-7fef281ac64d",
   "metadata": {},
   "outputs": [],
   "source": [
    "prelucrare_img(\"img_test_2.jpeg\", 1)"
   ]
  },
  {
   "cell_type": "code",
   "execution_count": 27,
   "id": "77c41f3f-91f2-45ae-b01d-6f729d443533",
   "metadata": {},
   "outputs": [
    {
     "data": {
      "text/plain": [
       "2"
      ]
     },
     "execution_count": 27,
     "metadata": {},
     "output_type": "execute_result"
    }
   ],
   "source": [
    "factor_scalare"
   ]
  },
  {
   "cell_type": "code",
   "execution_count": null,
   "id": "8fed7df6-3a5d-482a-80c3-4c8009a2bbb4",
   "metadata": {},
   "outputs": [],
   "source": []
  }
 ],
 "metadata": {
  "kernelspec": {
   "display_name": "Python 3 (ipykernel)",
   "language": "python",
   "name": "python3"
  },
  "language_info": {
   "codemirror_mode": {
    "name": "ipython",
    "version": 3
   },
   "file_extension": ".py",
   "mimetype": "text/x-python",
   "name": "python",
   "nbconvert_exporter": "python",
   "pygments_lexer": "ipython3",
   "version": "3.10.2"
  }
 },
 "nbformat": 4,
 "nbformat_minor": 5
}
