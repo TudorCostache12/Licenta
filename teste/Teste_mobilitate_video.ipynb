{
 "cells": [
  {
   "cell_type": "code",
   "execution_count": 3,
   "id": "425232ab-c74c-492f-9bf5-2ea1d39a3dfc",
   "metadata": {},
   "outputs": [],
   "source": [
    "import cv2\n",
    "import mediapipe as mp\n",
    "import numpy as np\n",
    "import pandas as pd\n",
    "import IPython.display as ipd\n",
    "from PIL import Image, ImageDraw, ImageFont\n",
    "from sympy import Point, Polygon \n",
    "from tqdm.notebook import tqdm\n",
    "mp_drawing = mp.solutions.drawing_utils\n",
    "mp_pose = mp.solutions.pose"
   ]
  },
  {
   "cell_type": "code",
   "execution_count": 4,
   "id": "11241202-545e-4a15-b07e-3dfa8bc87971",
   "metadata": {},
   "outputs": [],
   "source": [
    "def exercitiu_live(tip_exercitiu):\n",
    "    #Pentru Vid live\n",
    "    #Feed-ul de la camera\n",
    "    global pose_model\n",
    "    global puncte_linii_suport_dr\n",
    "    global puncte_linii_suport_st\n",
    "    global puncte\n",
    "    global stare\n",
    "    global cnt\n",
    "\n",
    "    cnt = 0\n",
    "    stare = 0\n",
    "    puncte_linii_suport_dr = [mp_pose.PoseLandmark.RIGHT_FOOT_INDEX, mp_pose.PoseLandmark.RIGHT_HEEL, mp_pose.PoseLandmark.RIGHT_ANKLE, mp_pose.PoseLandmark.RIGHT_KNEE, mp_pose.PoseLandmark.RIGHT_HIP, mp_pose.PoseLandmark.RIGHT_SHOULDER]\n",
    "    puncte_linii_suport_st = [mp_pose.PoseLandmark.LEFT_FOOT_INDEX, mp_pose.PoseLandmark.LEFT_HEEL, mp_pose.PoseLandmark.LEFT_ANKLE, mp_pose.PoseLandmark.LEFT_KNEE, mp_pose.PoseLandmark.LEFT_HIP, mp_pose.PoseLandmark.LEFT_SHOULDER]\n",
    "    cam = cv2.VideoCapture(0, cv2.CAP_DSHOW)\n",
    "    cam.set(cv2.CAP_PROP_FRAME_WIDTH, 1280)\n",
    "    cam.set(cv2.CAP_PROP_FRAME_HEIGHT, 960)\n",
    "    \n",
    "    with mp_pose.Pose(min_detection_confidence = 0.5, min_tracking_confidence = 0.5) as pose:\n",
    "        while cam.isOpened():\n",
    "            ret, frame = cam.read()\n",
    "    \n",
    "            #colorarea frame-ului din BGR in RGB\n",
    "            img = cv2.cvtColor(frame, cv2.COLOR_BGR2RGB)\n",
    "            img.flags.writeable = False\n",
    "    \n",
    "            #detectarea modelului\n",
    "            pose_model = pose.process(img)\n",
    "            try:\n",
    "                puncte = pose_model.pose_landmarks.landmark\n",
    "            except Exception as e:\n",
    "                print(f\"Eroare de detectie a modelului: {e}\")\n",
    "            \n",
    "            #colorarea frame-ului din RGB in BGR\n",
    "            img.flags.writeable = True\n",
    "            img = cv2.cvtColor(img, cv2.COLOR_RGB2BGR)\n",
    "    \n",
    "            mp_drawing.draw_landmarks(img, pose_model.pose_landmarks, mp_pose.POSE_CONNECTIONS)\n",
    "           \n",
    "\n",
    "            \n",
    "            img = analiza_fandare_front(img)\n",
    "                \n",
    "            cv2.imshow(\"Camera Feed\", img)\n",
    "            \n",
    "            cv2.waitKey(1)\n",
    "            if cv2.getWindowProperty(\"Camera Feed\", cv2.WND_PROP_VISIBLE) < 1:\n",
    "                break\n",
    "        cam.release()\n",
    "        cv2.destroyAllWindows()"
   ]
  },
  {
   "cell_type": "code",
   "execution_count": 5,
   "id": "a3e20174-713f-4522-b765-2eb44cebcd7e",
   "metadata": {},
   "outputs": [],
   "source": [
    "def adaug_text(img, indicatii):\n",
    "    try:\n",
    "        dif = 5\n",
    "        for indicatie in indicatii:\n",
    "            img = cv2.putText(img, indicatie, (5, img.shape[0] - dif), cv2.FONT_HERSHEY_SIMPLEX, 1, (0, 255, 0), 2)\n",
    "            dif += 40\n",
    "    except Exception as e:\n",
    "        print(f\"Eroare la adaug_text: {e}\")\n",
    "    return img"
   ]
  },
  {
   "cell_type": "code",
   "execution_count": 6,
   "id": "355d65e1-9192-4a11-8644-5ae0a9bf335d",
   "metadata": {},
   "outputs": [],
   "source": [
    "def analiza_fandare_front(img):\n",
    "\n",
    "    coord_pct_suport_dr = []\n",
    "    coord_pct_suport_st = []\n",
    "    \n",
    "    \n",
    "    for (puncte_cheie_dr, puncte_cheie_st) in zip(puncte_linii_suport_dr, puncte_linii_suport_st) :\n",
    "        if puncte[puncte_cheie_dr.value].visibility > 0.5 and  puncte[puncte_cheie_st.value].visibility > 0.5:\n",
    "            coord_pct_suport_dr.append((int(puncte[puncte_cheie_dr.value].x * img.shape[1]), int(puncte[puncte_cheie_dr.value].y * img.shape[0]), int(puncte[puncte_cheie_dr.value].z)))\n",
    "            coord_pct_suport_st.append((int(puncte[puncte_cheie_st.value].x * img.shape[1]), int(puncte[puncte_cheie_st.value].y * img.shape[0]), int(puncte[puncte_cheie_st.value].z)))\n",
    "\n",
    "    #if stare == 0:\n",
    "    indicatii = pregatire_fandare(coord_pct_suport_dr, coord_pct_suport_st)\n",
    "\n",
    "    #if stare == 1:\n",
    "        #indicatii = proces_fandare(coord_pct_suport_dr, coord_pct_suport_st)\n",
    "    \n",
    "    img = adaug_text(img, indicatii)\n",
    "    \n",
    "\n",
    "    \n",
    "    \n",
    "    return img"
   ]
  },
  {
   "cell_type": "code",
   "execution_count": 7,
   "id": "1653e5ce-9a14-43e8-bfcd-d3e397f10f7b",
   "metadata": {},
   "outputs": [],
   "source": [
    "def proces_fandare(coord_pct_suport_dr, coord_pct_suport_st):\n",
    "    #aici as putea introduce  calculul scorului cand fac exercitiul\n",
    "    global cnt\n",
    "    global stare\n",
    "    indicatii = [f\"Counter: {cnt}\"]\n",
    "    \n",
    "    flexie_genunchi_dr = calcul_unghi_2_drepte(coord_pct_suport_dr[2], coord_pct_suport_dr[3], coord_pct_suport_dr[3], coord_pct_suport_dr[4])\n",
    "    flexie_genunchi_st = calcul_unghi_2_drepte(coord_pct_suport_st[2], coord_pct_suport_st[3], coord_pct_suport_st[3], coord_pct_suport_st[4])\n",
    "\n",
    "    if flexie_genunchi_dr > 60 and flexie_genunchi_st > 60:\n",
    "        cnt += 1\n",
    "        stare = 0\n",
    "\n",
    "    return indicatii\n",
    "    \n",
    "    "
   ]
  },
  {
   "cell_type": "code",
   "execution_count": 8,
   "id": "8773a262-2de1-40c8-82d4-7f57700e418e",
   "metadata": {},
   "outputs": [],
   "source": [
    "def pregatire_fandare(coord_pct_suport_dr, coord_pct_suport_st):\n",
    "\n",
    "    global stare\n",
    "    indicatii = [f\"Counter: {cnt}\"]\n",
    "    unghi_talpi = False\n",
    "    pozitionare_picioare = False\n",
    "    \n",
    "    if len(coord_pct_suport_dr) == 6 and len(coord_pct_suport_st) == 6:\n",
    "        \n",
    "        unghi_talpa_dr = calcul_unghi_orizont(coord_pct_suport_dr[0], coord_pct_suport_dr[1])\n",
    "        unghi_talpa_st = 180 - calcul_unghi_orizont(coord_pct_suport_st[0], coord_pct_suport_st[1])\n",
    "\n",
    "        \n",
    "        if  45 <=  unghi_talpa_dr <= 75 and  45 <=  unghi_talpa_st <= 75:\n",
    "            unghi_talpi = True\n",
    "        else:\n",
    "            indicatii.append(\"unghiul talpilor incorect\")\n",
    "    \n",
    "        if coord_pct_suport_dr[2][0] < coord_pct_suport_dr[4][0] and coord_pct_suport_st[2][0] > coord_pct_suport_st[4][0]:\n",
    "            pozitionare_picioare = True\n",
    "        else:\n",
    "            indicatii.append(\"picioarele prea apropiate\")\n",
    "        \n",
    "    \n",
    "        if unghi_talpi and pozitionare_picioare:\n",
    "            stare = 1\n",
    "            indicatii.append(\"pozitie corecta!\")\n",
    "        print (stare)\n",
    "        print(unghi_talpa_dr)\n",
    "        print(unghi_talpa_st)\n",
    "        print(abs(unghi_talpa_dr - unghi_talpa_st))\n",
    "\n",
    "    else:\n",
    "        indicatii.append(\"intrati in cadru\")\n",
    "    return indicatii"
   ]
  },
  {
   "cell_type": "code",
   "execution_count": 9,
   "id": "401f2f9b-399c-4c03-9fb8-8e5c70224d59",
   "metadata": {},
   "outputs": [],
   "source": [
    "def calcul_unghi_orizont(a, b):\n",
    "    a = np.array(a)\n",
    "    b = np.array(b)\n",
    "    c = [0, 0.5, 0]\n",
    "    d = [0.5, 0.5, 0]\n",
    "    vect_dir_ab = np.subtract(b, a)\n",
    "    vect_dir_cd = np.subtract(d, c)\n",
    "    \n",
    "    lungime_ab = np.linalg.norm(vect_dir_ab)\n",
    "    lungime_cd = np.linalg.norm(vect_dir_cd)\n",
    "    unghi = np.arccos(np.dot(vect_dir_ab, vect_dir_cd) / (lungime_ab * lungime_cd))\n",
    "    unghi = np.rad2deg(unghi)\n",
    "\n",
    "    return unghi"
   ]
  },
  {
   "cell_type": "code",
   "execution_count": 10,
   "id": "2082e22b-9504-43cc-8994-5f819fc79102",
   "metadata": {},
   "outputs": [],
   "source": [
    "def calcul_unghi_2_drepte(a, b, c, d):\n",
    "    a = np.array(a)\n",
    "    b = np.array(b)\n",
    "    c = np.array(c)\n",
    "    d = np.array(d)\n",
    "    \n",
    "    vect_dir_ab = np.subtract(b, a)\n",
    "    vect_dir_cd = np.subtract(d, c)\n",
    "    \n",
    "    lungime_ab = np.linalg.norm(vect_dir_ab)\n",
    "    lungime_cd = np.linalg.norm(vect_dir_cd)\n",
    "    unghi = np.arccos(np.dot(vect_dir_ab, vect_dir_cd) / (lungime_ab * lungime_cd))\n",
    "    unghi = np.rad2deg(unghi)\n",
    "\n",
    "    return unghi"
   ]
  },
  {
   "cell_type": "code",
   "execution_count": 11,
   "id": "6a8ba1be-f9f2-41ed-9d61-397f98b6158a",
   "metadata": {},
   "outputs": [],
   "source": [
    "def afla_orientare(puncte):\n",
    "    sold_stg = puncte[mp_pose.PoseLandmark.LEFT_HIP.value].z\n",
    "    sold_drept = puncte[mp_pose.PoseLandmark.RIGHT_HIP.value].z\n",
    "\n",
    "    if sold_stg > 0:\n",
    "        return \"stanga\"\n",
    "    return \"dreapta\""
   ]
  },
  {
   "cell_type": "code",
   "execution_count": 13,
   "id": "f253fd7f-a71e-4d95-b085-123f202b4bc9",
   "metadata": {},
   "outputs": [
    {
     "name": "stdout",
     "output_type": "stream",
     "text": [
      "0\n",
      "69.04422326936782\n",
      "93.0940580589171\n",
      "24.04983478954928\n",
      "0\n",
      "65.65891006330749\n",
      "76.7594800848128\n",
      "11.100570021505305\n",
      "0\n",
      "65.89776549883887\n",
      "76.7594800848128\n",
      "10.861714585973928\n"
     ]
    }
   ],
   "source": [
    "exercitiu_live(1)"
   ]
  },
  {
   "cell_type": "code",
   "execution_count": 11,
   "id": "c4e84790-c521-4f89-80c8-b8629e6fbf1f",
   "metadata": {},
   "outputs": [
    {
     "data": {
      "application/vnd.jupyter.widget-view+json": {
       "model_id": "9ea5e7bfda6d4e65b0679c32291b87c3",
       "version_major": 2,
       "version_minor": 0
      },
      "text/plain": [
       "  0%|          | 0/904 [00:00<?, ?it/s]"
      ]
     },
     "metadata": {},
     "output_type": "display_data"
    }
   ],
   "source": [
    "#Pentru salvare VID\n",
    "#Feed-ul de la camera\n",
    "vid_original = cv2.VideoCapture('video_test_4.mp4')\n",
    "nr_frames = int(vid_original.get(cv2.CAP_PROP_FRAME_COUNT))\n",
    "fps = vid_original.get(cv2.CAP_PROP_FPS)\n",
    "\n",
    "vid_prelucrat = cv2.VideoWriter('video_prelucrat.mp4',  cv2.VideoWriter_fourcc(*'MP4V'), fps, (int(vid_original.get(3)), int(vid_original.get(4)))) \n",
    "\n",
    "with mp_pose.Pose(min_detection_confidence = 0.5, min_tracking_confidence = 0.5) as pose:\n",
    "    for frame_index in tqdm(range(nr_frames)):\n",
    "        ret, frame = vid_original.read()\n",
    "\n",
    "        #colorarea frame-ului din BGR in RGB\n",
    "        img = cv2.cvtColor(frame, cv2.COLOR_BGR2RGB)\n",
    "        #img.flags.writeable = False\n",
    "        #detectarea modelului\n",
    "        pose_model = pose.process(img)\n",
    "        \n",
    "        #colorarea frame-ului din RGB in BGR\n",
    "        img.flags.writeable = True\n",
    "        #img = prelucrare_img(frame, 1)\n",
    "        img = cv2.cvtColor(img, cv2.COLOR_RGB2BGR)\n",
    "        mp_drawing.draw_landmarks(img, pose_model.pose_landmarks, mp_pose.POSE_CONNECTIONS)\n",
    "        \n",
    "        vid_prelucrat.write(img)\n",
    "            \n",
    "    vid_original.release()\n",
    "    vid_prelucrat.release()"
   ]
  },
  {
   "cell_type": "code",
   "execution_count": null,
   "id": "131e4fc9-18b2-4a3b-a00f-27f57dd01083",
   "metadata": {},
   "outputs": [],
   "source": []
  },
  {
   "cell_type": "code",
   "execution_count": null,
   "id": "5a6e1cee-c13d-4cbf-b240-5655cf7ba0d9",
   "metadata": {},
   "outputs": [],
   "source": []
  }
 ],
 "metadata": {
  "kernelspec": {
   "display_name": "Python 3 (ipykernel)",
   "language": "python",
   "name": "python3"
  },
  "language_info": {
   "codemirror_mode": {
    "name": "ipython",
    "version": 3
   },
   "file_extension": ".py",
   "mimetype": "text/x-python",
   "name": "python",
   "nbconvert_exporter": "python",
   "pygments_lexer": "ipython3",
   "version": "3.10.2"
  }
 },
 "nbformat": 4,
 "nbformat_minor": 5
}
